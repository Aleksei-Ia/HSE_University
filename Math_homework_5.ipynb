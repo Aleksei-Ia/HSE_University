{
  "nbformat": 4,
  "nbformat_minor": 0,
  "metadata": {
    "colab": {
      "provenance": [],
      "authorship_tag": "ABX9TyN2WXB2T7pCk6Q236C7pdpr",
      "include_colab_link": true
    },
    "kernelspec": {
      "name": "python3",
      "display_name": "Python 3"
    },
    "language_info": {
      "name": "python"
    }
  },
  "cells": [
    {
      "cell_type": "markdown",
      "metadata": {
        "id": "view-in-github",
        "colab_type": "text"
      },
      "source": [
        "<a href=\"https://colab.research.google.com/github/Aleksei-Ia/HSE_University/blob/main/Math_homework_5.ipynb\" target=\"_parent\"><img src=\"https://colab.research.google.com/assets/colab-badge.svg\" alt=\"Open In Colab\"/></a>"
      ]
    },
    {
      "cell_type": "markdown",
      "source": [
        "Задача 1 (2 балла). Найдите ранг матрицы:\n",
        "\n",
        "$A=\\begin{pmatrix}2&3&1&2\\\\1&1&2&0\\\\0&0&1&-1\\\\0&0&1&-2\\end{pmatrix}$\n",
        "\n",
        "Вычтем из второй строки первую строку, умноженную на $\\frac{1}{2}$:\n",
        "\n",
        "$A=\\begin{pmatrix}2&3&1&2\\\\0&-0.5&1.5&-1\\\\0&0&1&-1\\\\0&0&1&-2\\end{pmatrix}$\n",
        "\n",
        "Вычтем третью строку из четвертой:\n",
        "\n",
        "$A=\\begin{pmatrix}2&3&1&2\\\\0&-0.5&1.5&-1\\\\0&0&1&-1\\\\0&0&0&-1\\end{pmatrix}$\n",
        "\n",
        "Матрица находится в ступенчатом виде. Видно, что в матрице есть четыре ненулевые строки $\\implies$ ранг матрицы = 4\n",
        "\n"
      ],
      "metadata": {
        "id": "cc_Y8NUg2xeD"
      }
    },
    {
      "cell_type": "code",
      "source": [],
      "metadata": {
        "id": "r3nmCvx-4sEg"
      },
      "execution_count": null,
      "outputs": []
    },
    {
      "cell_type": "markdown",
      "source": [
        "Задача 2 (3 балла). Пусть у матрицы $A \\in \\mathbb{R}^{n \\times n}$ существует $n$ действительных собственных чисел и линейно-независимых собственных векторов. Используя спектральное разложение, докажите, что в таком случае:\n",
        "\n",
        "$det(A)=\\lambda_1\\cdot\\lambda_2\\cdot\\ldots\\cdot\\lambda_n,tr(A)=\\lambda_1+\\lambda_2+\\ldots+\\lambda_n$\n",
        "\n",
        "$A = P \\Lambda P^{-1}$\n",
        "\n",
        "где $P$ — матрица, составленная из собственных векторов матрицы $A$, а $\\Lambda$ — диагональная матрица, содержащая собственные значения $\\lambda_1, \\lambda_2, \\dots, \\lambda_n$ на главной диагонали.\n",
        "\n",
        "Определитель матрицы $A$\n",
        "\n",
        "$det(A)=det(P\\Lambda P^{-1})$\n",
        "\n",
        "$det(A)=det(P)\\cdot det(\\Lambda)\\cdot det(P^{-1})$\n",
        "\n",
        "$det(P^{-1})=\\frac{1}{det(P)}$\n",
        "\n",
        "$det(A)=\\det(P)\\cdot det(\\Lambda)\\cdot\\frac{1}{det(P)}=det(\\Lambda)$\n",
        "\n",
        "$\\Lambda$ — диагональная матрица со значениями $\\lambda_1,\\lambda_2,\\dots,\\lambda_n$ на главной диагонали, её определитель равен произведению значений:\n",
        "\n",
        "$det(A)=\\lambda_1\\cdot\\lambda_2\\cdot\\dots\\cdot\\lambda_n$\n",
        "\n",
        "След матрицы $A$ определяется как сумма её диагональных элементов. В случае спектрального разложения $A = P \\Lambda P^{-1}$ след матрицы $A$ равен следу диагональной матрицы $\\Lambda$:\n",
        "\n",
        "$tr(A)=tr(\\Lambda)=\\lambda_1+\\lambda_2+\\dots+\\lambda_n$"
      ],
      "metadata": {
        "id": "km3ejBRn4sfW"
      }
    },
    {
      "cell_type": "code",
      "source": [],
      "metadata": {
        "id": "O8suzHSuoi1g"
      },
      "execution_count": null,
      "outputs": []
    },
    {
      "cell_type": "markdown",
      "source": [
        "Задача 3 (2 балла). Для матриц ниже найдите собственные вектора и собственные значения.\n",
        "Убедитесь, что определитель матриц совпадет с произведением собственных чисел, а след с их суммой.\n",
        "\n",
        "$A=\\begin{pmatrix}3&4&2\\\\0&1&2\\\\0&0&0\\end{pmatrix},B=\\begin{pmatrix}0&0&2\\\\0&2&0\\\\2&0&0\\end{pmatrix}$\n",
        "\n",
        "**Матрица $A$**:\n",
        "\n",
        "$\\det(A-\\lambda I)=\\det\\begin{pmatrix}3-\\lambda&4&2\\\\0&1-\\lambda&2\\\\0&0&0-\\lambda\\end{pmatrix}=0$\n",
        "\n",
        "$(3-\\lambda)(1-\\lambda)(-\\lambda)=0$\n",
        "\n",
        "$(3-\\lambda)=0\\implies\\lambda=3$\n",
        "\n",
        "$(1-\\lambda)=0\\implies\\lambda=1$\n",
        "\n",
        "$(-\\lambda)=0\\implies\\lambda=0$\n",
        "\n",
        "Собственные значения:\n",
        "\n",
        "$\\lambda_1=0,\\lambda_2=1,\\lambda_3=3$\n",
        "\n",
        "Собственные векторы:\n",
        "\n",
        "Для $\\lambda_1=0$:\n",
        "\n",
        "$\\mathbf{v}=\\begin{pmatrix}0\\\\0\\\\1\\end{pmatrix}$\n",
        "\n",
        "Для $\\lambda_2=1$:\n",
        "\n",
        "$\\mathbf{v}=\\begin{pmatrix}-2\\\\1\\\\0\\end{pmatrix}$\n",
        "\n",
        "Для $\\lambda_3=3$:\n",
        "\n",
        "$\\mathbf{v}=\\begin{pmatrix}1\\\\0\\\\0\\end{pmatrix}$\n",
        "\n",
        "**Матрица $B$**:\n",
        "\n",
        "$det(B-\\lambda I)=det\\begin{pmatrix}-\\lambda&0&2\\\\0&2-\\lambda&0\\\\2&0&-\\lambda\\end{pmatrix}=0$\n",
        "\n",
        "$-\\lambda\\left|\\begin{matrix}2-\\lambda&0\\\\0&-\\lambda\\end{matrix}\\right|+2\\left|\\begin{matrix}0&2-\\lambda\\\\2&0\\end{matrix}\\right|=0$\n",
        "\n",
        "$-\\lambda(2-\\lambda)(-\\lambda)+2\\cdot(-4+2\\lambda)=\\lambda^3-2\\lambda^2-4\\lambda+8=0$\n",
        "\n",
        "Собственные значения:\n",
        "\n",
        "$\\lambda_1=2,\\lambda_2=-2,\\lambda_3=2$\n",
        "\n",
        "\n",
        "Собственные векторы:\n",
        "\n",
        "Для $\\lambda=2$:\n",
        "\n",
        "$\\mathbf{v}=\\begin{pmatrix}1\\\\0\\\\1\\end{pmatrix}$\n",
        "\n",
        "Для $\\lambda=-2$:\n",
        "\n",
        "$\\mathbf{v}=\\begin{pmatrix}-1\\\\0\\\\1\\end{pmatrix}$\n",
        "\n",
        "**Матрица $A$**:\n",
        "\n",
        "$det(A)=0,\\quad\\lambda_1\\cdot\\lambda_2\\cdot\\lambda_3=0\\cdot1\\cdot3=0\\quad(совпадает)$\n",
        "\n",
        "$tr(A)=3+1+0=4,\\quad\\lambda_1+\\lambda_2+\\lambda_3=4\\quad(совпадает)$\n",
        "\n",
        "**Матрица $B$**:\n",
        "\n",
        "$det(B)=-8,\\quad\\lambda_1\\cdot\\lambda_2\\cdot\\lambda_3=2\\cdot-2\\cdot2=-8\\quad(совпадает)$\n",
        "\n",
        "$tr(B)=0+2+0=2,\\quad\\lambda_1+\\lambda_2+\\lambda_3=2\\quad(совпадает)$"
      ],
      "metadata": {
        "id": "tv-iWFs75zWK"
      }
    },
    {
      "cell_type": "code",
      "source": [],
      "metadata": {
        "id": "S7StCyYwEf49"
      },
      "execution_count": null,
      "outputs": []
    },
    {
      "cell_type": "markdown",
      "source": [
        "Задача 4 (3 балла). Докажите (используя спектральное разложения) или опровергните (приведя контр-пример) следующие утверждения:\n",
        "\n",
        "1. Если $\\lambda$ - это собственное число матрицы $A$, то $\\lambda^2$ - собственное число матрицы $A^2$.\n",
        "2. Если $\\lambda$ - это собственное число матрицы $A$, то $\\lambda^{-1}$ - собственное число матрицы $A^{-1}$.\n",
        "3. Если $\\lambda$ - это собственное число матрицы $A$, то $1+\\lambda$ - собственное число матрицы $I+A$, где $I$ - единичная матрица.\n",
        "\n",
        "$-------------------------------------$\n",
        "\n",
        "1. Если $\\lambda$ - это собственное число матрицы $A$, то $\\lambda^2$ - собственное число матрицы $A^2$.\n",
        "\n",
        "$A=P\\Lambda P^{-1}$\n",
        "\n",
        "$A^2=P\\Lambda P^{-1}P\\Lambda P^{-1}=P\\Lambda^2 P^{-1}$\n",
        "\n",
        "\n",
        "где $\\Lambda^2$ — диагональная матрица с элементами $\\lambda_1^2,\\lambda_2^2,\\ldots,\\lambda_n^2$. Таким образом, собственные числа $A^2$ — это $\\lambda_1^2, \\lambda_2^2, \\ldots, \\lambda_n^2$.\n",
        "\n",
        "$-------------------------------------$\n",
        "\n",
        "2. Если $\\lambda$ - это собственное число матрицы $A$, то $\\lambda^{-1}$ - собственное число матрицы $A^{-1}$.\n",
        "\n",
        "$A = P\\Lambda P^{-1}$\n",
        "\n",
        "$A^{-1}=(P\\Lambda P^{-1})^{-1}=P(\\Lambda^{-1})P^{-1}$\n",
        "\n",
        "где $\\Lambda^{-1}$ — диагональная матрица с элементами $\\lambda_1^{-1},\\lambda_2^{-1},\\ldots,\\lambda_n^{-1}$. Таким образом, собственные числа $A^{-1}$ — это $\\lambda_1^{-1},\\lambda_2^{-1},\\ldots,\\lambda_n^{-1}$.\n",
        "\n",
        "$-------------------------------------$\n",
        "\n",
        "3. Если $\\lambda$ - это собственное число матрицы $A$, то $1+\\lambda$ - собственное число матрицы $I+A$, где $I$ - единичная матрица.\n",
        "\n",
        "$A=P\\Lambda P^{-1}$\n",
        "\n",
        "$I+A=I+P\\Lambda P^{-1}=PIP^{-1}+P\\Lambda P^{-1}=P(I+\\Lambda) P^{-1}$\n",
        "\n",
        "где $I+\\Lambda$ — диагональная матрица с элементами $1+\\lambda_1,1+\\lambda_2,\\ldots,1+\\lambda_n$. Таким образом, собственные числа $I+A$ — это $1+\\lambda_1,1+\\lambda_2,\\ldots,1+\\lambda_n$."
      ],
      "metadata": {
        "id": "LJ2gVtqNMGEm"
      }
    },
    {
      "cell_type": "code",
      "source": [],
      "metadata": {
        "id": "zD7vs5UXMFku"
      },
      "execution_count": null,
      "outputs": []
    },
    {
      "cell_type": "markdown",
      "source": [
        "Задача 5 (2 балла). У Морфеуса есть матрица $A$. Он построил матрицу алгебраических дополнений $\\hat{A}$ и хочет найти её ранг $rk(\\hat{A})$. Помогите ему. Выразите его через $rk(A)$\n",
        "\n",
        "1. Если матрица $A$ является нулевой $rk(A)=0$, присоединённая матрица $\\hat{A}$ также будет нулевой $\\implies rk(\\hat{A})=0$.\n",
        "\n",
        "2. Если матрица $A$ имеет полный ранг $rk(A)=n$ для матрицы размера $n\\times n$, матрица $A$ обратима, присоединённая матрица $\\hat{A}$ также будет обратимой $\\implies rk(\\hat{A})=n$\n",
        "\n",
        "3. Если $0<rk(A)<n$, присоединённая матрица составляется из определителей подматриц матрицы $A$, если матрица $A$ не имеет полный ранг, то все определители будут пропорциональны друг другу $\\implies rk(\\hat{A})=1$."
      ],
      "metadata": {
        "id": "p0DT5GvZEhKn"
      }
    }
  ]
}