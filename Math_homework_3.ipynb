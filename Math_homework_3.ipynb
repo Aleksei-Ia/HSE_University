{
  "nbformat": 4,
  "nbformat_minor": 0,
  "metadata": {
    "colab": {
      "provenance": [],
      "authorship_tag": "ABX9TyOgPImx6ed/ATuDhj/o1pIj",
      "include_colab_link": true
    },
    "kernelspec": {
      "name": "python3",
      "display_name": "Python 3"
    },
    "language_info": {
      "name": "python"
    }
  },
  "cells": [
    {
      "cell_type": "markdown",
      "metadata": {
        "id": "view-in-github",
        "colab_type": "text"
      },
      "source": [
        "<a href=\"https://colab.research.google.com/github/Aleksei-Ia/HSE_University/blob/main/Math_homework_3.ipynb\" target=\"_parent\"><img src=\"https://colab.research.google.com/assets/colab-badge.svg\" alt=\"Open In Colab\"/></a>"
      ]
    },
    {
      "cell_type": "markdown",
      "source": [
        "Задача 1 (3 балла). Найдите для матриц, приведённых ниже обратные, если они существуют.\n",
        "\n",
        "Матрица $A$\n",
        "\n",
        "$A=\\begin{pmatrix}1&3\\\\4&11\\end{pmatrix}$\n",
        "\n",
        "Определитель:\n",
        "\n",
        "$\\text{det}(A)=1\\times11-3\\times4=-1$\n",
        "\n",
        "Обратная матрица:\n",
        "\n",
        "$A^{-1}=\\begin{pmatrix}-11&3\\\\4&-1\\end{pmatrix}$\n",
        "\n",
        "$-----------------$\n",
        "\n",
        "Матрица $B$\n",
        "\n",
        "$B=\\begin{pmatrix}3&-4&5\\\\2&-3&1\\\\3&-5&-1\\end{pmatrix}$\n",
        "\n",
        "Определитель:\n",
        "\n",
        "$\\text{det}(B)=3\\cdot8+4\\cdot(-5)+5\\cdot(-1)=-1$\n",
        "\n",
        "Обратная матрица:\n",
        "\n",
        "$B^{-1}=\\begin{pmatrix}-8&29&-11\\\\-5&18&-7\\\\1&-3&1\\end{pmatrix}$\n",
        "\n",
        "$-----------------$\n",
        "\n",
        "Матрица $C$\n",
        "\n",
        "$C=\\begin{pmatrix}2&3&1&2\\\\1&1&2&0\\\\0&0&1&-1\\\\0&0&1&-2\\end{pmatrix}$\n",
        "\n",
        "Разложение определителя по первой строке\n",
        "\n",
        "$\\text{det}(C)=2\\cdot M_{11}-3\\cdot M_{12}+1\\cdot M_{13}-2\\cdot M_{14}$\n",
        "\n",
        "Найдём миноры\n",
        "\n",
        "$M_{11}=\\begin{vmatrix}1&2&0\\\\0&1&-1\\\\0&1&-2\\end{vmatrix}$\n",
        "\n",
        "Разложим по первой строке:\n",
        "\n",
        "$\\text{det}(M_{11})=1\\cdot\\begin{vmatrix}1&-1\\\\1&-2\\end{vmatrix}-2\\cdot\\begin{vmatrix}0&-1\\\\0&-2\\end{vmatrix}+0$\n",
        "\n",
        "$\\begin{vmatrix}1&-1\\\\1&-2\\end{vmatrix}=1\\cdot(-2)-(-1)\\cdot1=-2+1=-1$\n",
        "\n",
        "$\\text{det}(M_{11})=1\\cdot(-1)-2\\cdot0=-1$\n",
        "\n",
        "$M_{12}=\\begin{vmatrix}1&2&0\\\\0&1&-1\\\\0&1&-2\\end{vmatrix}=M_{11}=-1$\n",
        "\n",
        "$M_{13}=\\begin{vmatrix}1&1&0\\\\0&0&-1\\\\0&0&-2\\end{vmatrix}=0$\n",
        "\n",
        "Так как у этой матрицы есть две нулевые строки, её определитель равен 0\n",
        "\n",
        "$M_{14}=\\begin{vmatrix}1&1&2\\\\0&0&1\\\\0&0&1\\end{vmatrix}=0$\n",
        "\n",
        "Так как у этой матрицы есть две нулевые строки, её определитель равен 0\n",
        "\n",
        "Теперь подставим все найденные значения миноров:\n",
        "\n",
        "$\\text{det}(C)=2\\cdot(-1)-3\\cdot(-1)+1\\cdot0-2\\cdot0=-2+3+0-0=1$\n",
        "\n",
        "Обратная матрица $C^{-1}$:\n",
        "\n",
        "$C^{-1}=\\begin{pmatrix}-1&3&-8&3\\\\1&-2&4&-1\\\\0&0&2&-1\\\\0&0&1&-1\\end{pmatrix}$\n"
      ],
      "metadata": {
        "id": "FvBkAkacRA5D"
      }
    },
    {
      "cell_type": "code",
      "source": [],
      "metadata": {
        "id": "uZP8pVQoRDOt"
      },
      "execution_count": null,
      "outputs": []
    },
    {
      "cell_type": "markdown",
      "source": [
        "Задача 2 (2 балла). Найдите определитель следующей матрицы\n",
        "\n",
        "$A=\\begin{pmatrix}1&1&0&0&0\\\\-1&1&1&0&0\\\\0&-1&1&1&0\\\\0&0&-1&1&1\\\\0&0&0&-1&1\\end{pmatrix}$\n",
        "\n",
        "Ко второй строке добавляем первую строку:\n",
        "\n",
        "$A=\\begin{pmatrix}1&1&0&0&0\\\\0&2&1&0&0\\\\0&-1&1&1&0\\\\0&0&-1&1&1\\\\0&0&0&-1&1\\end{pmatrix}$\n",
        "\n",
        "К третьей строке добавляем вторую строку, умноженную на $\\frac{1}{2}$:\n",
        "\n",
        "$A=\\begin{pmatrix}1&1&0&0&0\\\\0&2&1&0&0\\\\0&0&1.5&1&0\\\\0&0&-1&1&1\\\\0&0&0&-1&1\\end{pmatrix}$\n",
        "\n",
        "К четвёртой строке добавляем третью строку, умноженную на $\\frac{2}{3}$:\n",
        "\n",
        "$A=\\begin{pmatrix}1&1&0&0&0\\\\0&2&1&0&0\\\\0&0&1.5&1&0\\\\0&0&0&\\frac{5}{3}&1\\\\0&0&0&-1&1\\end{pmatrix}$\n",
        "\n",
        "К пятой строке добавляем четвёртую строку, умноженную на $\\frac{3}{5}$:\n",
        "\n",
        "$A=\\begin{pmatrix}1&1&0&0&0\\\\0&2&1&0&0\\\\0&0&1.5&1&0\\\\0&0&0&\\frac{5}{3}&1\\\\0&0&0&0&1.6\\end{pmatrix}$\n",
        "\n",
        "$\\text{det}(A)=1\\cdot2\\cdot1.5\\cdot\\frac{5}{3}\\cdot1.6=\\frac{60}{30}\\cdot\\frac{45}{30}\\cdot\\frac{50}{30}\\cdot\\frac{48}{30}=8$"
      ],
      "metadata": {
        "id": "ZbMqu8gDRDaO"
      }
    },
    {
      "cell_type": "code",
      "source": [],
      "metadata": {
        "id": "vYAMQvL4RHtt"
      },
      "execution_count": null,
      "outputs": []
    },
    {
      "cell_type": "markdown",
      "source": [
        "Задача 3 (2 балла). Без вычислений объясните почему определитель следующей матрицы будет равен нулю\n",
        "\n",
        "$\\begin{pmatrix}a_1&a_2&a_3&a_4&a_5\\\\b_1&b_2&b_3&b_4&b_5\\\\c_1&c_2&0&0&0\\\\d_1&d_2&0&0&0\\\\e_1&e_2&0&0&0\\end{pmatrix}$\n",
        "\n",
        "Определитель равен 0, потому что матрица не полностью заполнена уникальной информацией, а именно у неё есть 3 строки которые являются линейно зависимыми, что говорит о том что каждая из этих строк может быть выражена комбинацией других и пространство описываемое этой матрицей сжимается до 0"
      ],
      "metadata": {
        "id": "wHremGAcRH_K"
      }
    },
    {
      "cell_type": "code",
      "source": [],
      "metadata": {
        "id": "2iEYE36FRMJV"
      },
      "execution_count": null,
      "outputs": []
    },
    {
      "cell_type": "markdown",
      "source": [
        "Задача 4 (2 балла). Пусть $A, B, C, X, Y, Z ∈ ℝ^{n×n}$ и $A^{−1}$ и $C^{−1}$ существуют. Найдите:\n",
        "\n",
        "$M_1=\\begin{pmatrix}A&B\\\\0&C\\end{pmatrix}$\n",
        "\n",
        "$M_1\\cdot M_1^{-1}=I$\n",
        "\n",
        "Предположим, что обратная матрица имеет вид:\n",
        "$M_1^{-1}=\\begin{pmatrix}P&Q\\\\R&S\\end{pmatrix}$\n",
        "\n",
        "$M_1\\cdot M_1^{-1}=\\begin{pmatrix}A&B\\\\0&C\\end{pmatrix}\\begin{pmatrix}P&Q\\\\R&S\\end{pmatrix}=\\begin{pmatrix}AP+BR&AQ+BS\\\\CR&CS\\end{pmatrix}$\n",
        "\n",
        "Приводим, произведение к единичной матрице:\n",
        "$\\begin{pmatrix}I&0\\\\0&I\\end{pmatrix}$\n",
        "\n",
        "Рассмотрим уравнения для каждого блока:\n",
        "\n",
        "$AP+BR=I$\n",
        "\n",
        "$AQ+BS=0$\n",
        "\n",
        "$CR=0$\n",
        "\n",
        "$CS=I$\n",
        "\n",
        "Из $CR=0$ выводим: $R=0$\n",
        "\n",
        "Из $CS=I$ выводим: $S=C^{-1}$\n",
        "\n",
        "Из $AP+BR=I$, при $R=0$, выводим: $AP=I$\n",
        "\n",
        "Следовательно: $P=A^{-1}$\n",
        "\n",
        "Из $AQ+BS=0$, учитывая $S=C^{-1}$, выводим: $AQ+BC^{-1}=0$\n",
        "\n",
        "Следовательно: $AQ=-BC^{-1}$\n",
        "\n",
        "Умножим на $A^{-1}$: $Q=-A^{-1}BC^{-1}$\n",
        "\n",
        "Итоговая формула обратной матрицы:\n",
        "\n",
        "$M_1^{-1}=\\begin{pmatrix}A^{-1}&-A^{-1}BC^{-1}\\\\0&C^{-1}\\end{pmatrix}$\n",
        "\n",
        "$----------------------------------------$\n",
        "\n",
        "$M_2=\\begin{pmatrix}I&X&Y\\\\0&I&Z\\\\0&0&I\\end{pmatrix}$\n",
        "\n",
        "$M_2\\cdot M_2^{-1}=I$\n",
        "\n",
        "Предположим, что обратная матрица имеет вид:\n",
        "$M_2^{-1}=\\begin{pmatrix}I&-X&Q\\\\0&I&-Z\\\\0&0&I\\end{pmatrix}$\n",
        "\n",
        "Для того чтобы произведение $M_2\\cdot M_2^{-1}$ дало единичную матрицу, выполним умножение:\n",
        "\n",
        "$M_2\\cdot M_2^{-1}=\\begin{pmatrix}I&X&Y\\\\0&I&Z\\\\0&0&I\\end{pmatrix}\\begin{pmatrix}I&-X&Q\\\\0&I&-Z\\\\0&0&I\\end{pmatrix}=\\begin{pmatrix}I&0&0\\\\0&I&0\\\\0&0&I\\end{pmatrix}$\n",
        "\n",
        "$I\\cdot Q+X\\cdot(-Z)+Y\\cdot I=Q-XZ+Y=0$\n",
        "\n",
        "Следовательно:\n",
        "$Q=XZ-Y$\n",
        "\n",
        "Итоговая формула для обратной матрицы:\n",
        "\n",
        "$M_2^{-1}=\\begin{pmatrix}I&-X&XZ-Y\\\\0&I&-Z\\\\0&0&I\\end{pmatrix}$"
      ],
      "metadata": {
        "id": "Kb8xpG_yRMb5"
      }
    },
    {
      "cell_type": "code",
      "source": [],
      "metadata": {
        "id": "CBDwQ5R2RROT"
      },
      "execution_count": null,
      "outputs": []
    },
    {
      "cell_type": "markdown",
      "source": [
        "Задача 5 (1 балл). Пусть $A,B,A−B$ — обратимые квадратные матрицы. Убедитесь, что:\n",
        "\n",
        "$(A-B)^{-1}=A^{-1}+A^{-1}\\cdot(B^{-1}-A^{-1})^{-1}A^{-1}$\n",
        "\n",
        "$C=A-B$\n",
        "\n",
        "Тогда нам нужно доказать, что:\n",
        "\n",
        "$C^{-1}=A^{-1}+A^{-1}\\left(B^{-1}-A^{-1}\\right)^{-1}A^{-1}$\n",
        "\n",
        "Умножим обе стороны на $C$:\n",
        "\n",
        "$C\\cdot C^{-1}=C\\left(A^{-1}+A^{-1}\\left(B^{-1}-A^{-1}\\right)^{-1}A^{-1}\\right)$\n",
        "\n",
        "Левая часть даёт единичную матрицу:\n",
        "\n",
        "$I=C\\left(A^{-1}+A^{-1}\\left(B^{-1}-A^{-1}\\right)^{-1}A^{-1}\\right)$\n",
        "\n",
        "Подставим $C=A-B$:\n",
        "\n",
        "$I=(A-B)\\left(A^{-1}+A^{-1}\\left(B^{-1}-A^{-1}\\right)^{-1}A^{-1}\\right)=(A-B)A^{-1}+(A-B)A^{-1}\\left(B^{-1}-A^{-1}\\right)^{-1}A^{-1}$\n",
        "\n",
        "Первый член:\n",
        "\n",
        "$(A-B)A^{-1}=AA^{-1}-BA^{-1}=I-BA^{-1}$\n",
        "\n",
        "Второй член:\n",
        "\n",
        "$(A-B)A^{-1}\\cdot\\left(B^{-1}-A^{-1}\\right)^{-1}A^{-1}$\n",
        "\n",
        "$(B^{-1}-A^{-1})^{-1}=\\left(\\frac{A-B}{AB}\\right)^{-1}=AB(A-B)^{-1}$\n",
        "\n",
        "$(A-B)A^{-1}\\cdot AB(A-B)^{-1}A^{-1}=BA^{-1}$\n",
        "\n",
        "Таким образом, получаем:\n",
        "\n",
        "$I=(I-BA^{-1})+BA^{-1}=I$\n",
        "\n",
        "Мы доказали, что:\n",
        "\n",
        "$(A-B)^{-1}=A^{-1}+A^{-1}\\left(B^{-1}-A^{-1}\\right)^{-1}A^{-1}$\n",
        "\n",
        "$---------------------------------------$\n",
        "\n",
        "Проверка $(I+A)^{-1}=I-(A^{-1}+I)^{-1}$\n",
        "\n",
        "Допустим:\n",
        "\n",
        "$C=I-(A^{-1}+I)^{-1}$\n",
        "\n",
        "Необходимо доказать:\n",
        "\n",
        "$(I+A)\\cdot C=I$\n",
        "\n",
        "$(I+A)\\cdot C=(I+A)\\left(I-(A^{-1}+I)^{-1}\\right)=I+A-(I+A)(A^{-1}+I)^{-1}=I+A-(I+A)A(A+I)^{-1}=I$\n",
        "\n",
        "Мы доказали, что:\n",
        "\n",
        "$(I+A)^{-1}=I-(A^{-1}+I)^{-1}$"
      ],
      "metadata": {
        "id": "7ZJU9mOeRRcS"
      }
    }
  ]
}