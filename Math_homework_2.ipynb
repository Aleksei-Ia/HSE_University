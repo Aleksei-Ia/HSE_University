{
  "nbformat": 4,
  "nbformat_minor": 0,
  "metadata": {
    "colab": {
      "provenance": [],
      "authorship_tag": "ABX9TyOW9DmEsbONpuYj3CURzNsF",
      "include_colab_link": true
    },
    "kernelspec": {
      "name": "python3",
      "display_name": "Python 3"
    },
    "language_info": {
      "name": "python"
    }
  },
  "cells": [
    {
      "cell_type": "markdown",
      "metadata": {
        "id": "view-in-github",
        "colab_type": "text"
      },
      "source": [
        "<a href=\"https://colab.research.google.com/github/Aleksei-Ia/HSE_University/blob/main/Math_homework_2.ipynb\" target=\"_parent\"><img src=\"https://colab.research.google.com/assets/colab-badge.svg\" alt=\"Open In Colab\"/></a>"
      ]
    },
    {
      "cell_type": "markdown",
      "source": [
        "Задача 1 (2.5 балла). Решите систему для всех значений параметра λ\n",
        "\n",
        "$\\begin{cases}\\lambda x_1+x_2+x_3=1\\\\x_1+\\lambda x_2+x_3=1\\\\x_1+x_2+\\lambda x_3=1\\end{cases}$\n",
        "\n",
        "$A\\vec{x}=\\vec{b}$\n",
        "\n",
        "Преобразуем её в расширенную матрицу:\n",
        "\n",
        "$\\left(\\begin{array}{ccc|c}\\lambda&1&1&1\\\\1&\\lambda&1&1\\\\1&1&\\lambda&1\\end{array}\\right)$\n",
        "\n",
        "Найдём определитель ($\\Delta\\$):\n",
        "\n",
        "$\\Delta=\\begin{vmatrix}\\lambda&1&1\\\\1&\\lambda&1\\\\1&1&\\lambda\\end{vmatrix}$\n",
        "\n",
        "Разложим по первой строке:\n",
        "\n",
        "$\\Delta=\\lambda\\begin{vmatrix}\\lambda&1\\\\1&\\lambda\\end{vmatrix}-1\\begin{vmatrix}1&1\\\\1&\\lambda\\end{vmatrix}+1\\begin{vmatrix}1&\\lambda\\\\1&1\\end{vmatrix}=\\lambda(\\lambda^2-1)-1(\\lambda-1)+1(1-\\lambda)=\\lambda^3-3\\lambda+2$\n",
        "\n",
        "Рассмотрим когда $det(A)=0:$\n",
        "\n",
        "$\\lambda^3-3\\lambda+2=0$\n",
        "\n",
        "Найдём корни этого уравнения:\n",
        "\n",
        "Подбором можно увидеть, что $\\lambda = 1$ является корнем:\n",
        "\n",
        "$1^3-3\\cdot1+2=1-3+2=0$\n",
        "\n",
        "Разделим многочлен на $\\lambda - 1$, чтобы найти оставшиеся корни:\n",
        "\n",
        "$\\lambda^3-3\\lambda+2=(\\lambda-1)(\\lambda^2+\\lambda-2)$\n",
        "\n",
        "Решим квадратное уравнение:\n",
        "\n",
        "$\\lambda^2+\\lambda-2=0$\n",
        "\n",
        "Для решения квадратного уравнения используем формулу для корней квадратного уравнения:\n",
        "\n",
        "$\\lambda=\\frac{-b\\pm\\sqrt{b^2-4ac}}{2a}$\n",
        "\n",
        "Где:\n",
        "\n",
        "$a=1$,\n",
        "$b=1$,\n",
        "$c=-2$\n",
        "\n",
        "$\\lambda=\\frac{-1\\pm\\sqrt{1^2-4\\cdot1\\cdot(-2)}}{2\\cdot1}=\\frac{-1\\pm\\sqrt{1+8}}{2}=\\frac{-1\\pm3}{2}$\n",
        "\n",
        "$\\lambda=1,\\quad\\lambda=-2$\n",
        "\n",
        "Для $\\lambda\\neq1$ и $\\lambda\\neq-2$ система имеет единственное решение:\n",
        "$\\vec{x}=A^{-1}\\vec{b}$\n",
        "\n",
        "Для $\\lambda = 1:$\n",
        "\n",
        "$\\begin{cases}x_1+x_2+x_3=1\\\\x_1+x_2+x_3=1\\\\x_1+x_2+x_3=1\\end{cases}$\n",
        "\n",
        "Матрица имеет линейную зависимость, и решение будет бесконечно\n",
        "\n",
        "Для $\\lambda=-2:$\n",
        "\n",
        "$\\begin{cases}-2x_1+x_2+x_3=1\\\\x_1-2x_2+x_3=1\\\\x_1+x_2-2x_3=1\\end{cases}$\n",
        "\n",
        "Матрица вырожденная, решение также бесконечно.\n"
      ],
      "metadata": {
        "id": "_3lpNYjWnS8L"
      }
    },
    {
      "cell_type": "code",
      "source": [],
      "metadata": {
        "id": "3O53Mo3vrZ1I"
      },
      "execution_count": null,
      "outputs": []
    },
    {
      "cell_type": "markdown",
      "source": [
        "Задача 2 (2.5 балла). Вычислите максимально рациональным способом:\n",
        "\n",
        "$A^2+AB+BA+B^2$\n",
        "\n",
        "где:\n",
        "\n",
        "$A=\\begin{pmatrix}47&59\\\\-23&21\\end{pmatrix}$ $B=\\begin{pmatrix}-42&-59\\\\22&-20\\end{pmatrix}$\n",
        "\n",
        "Решение:\n",
        "\n",
        "$A^2+AB+BA+B^2$ = $(A+B)^2$\n",
        "\n",
        "Вычислим A+B:\n",
        "\n",
        "$A+B=\\begin{pmatrix}47-42&59-59\\\\-23+22&21-20\\end{pmatrix}=\\begin{pmatrix}5&0\\\\-1&1\\end{pmatrix}$\n",
        "\n",
        "Вычислим $(A+B)^2$:\n",
        "\n",
        "$(A+B)^2=\\begin{pmatrix}5&0\\\\-1&1\\end{pmatrix}\\cdot\\begin{pmatrix}5&0\\\\-1&1\\end{pmatrix}=\\begin{pmatrix}25&0\\\\-6&1\\end{pmatrix}$\n",
        "\n",
        "Ответ:\n",
        "\n",
        "$A^2+AB+BA+B^2=\\begin{pmatrix}25&0\\\\-6&1\\end{pmatrix}$"
      ],
      "metadata": {
        "id": "7Qlwev3jhKJ1"
      }
    },
    {
      "cell_type": "code",
      "source": [],
      "metadata": {
        "id": "VdjPT5tur0JO"
      },
      "execution_count": null,
      "outputs": []
    },
    {
      "cell_type": "markdown",
      "source": [
        "Задача 3 (2.5 балла). Найдите все матрицы X такие, что AX = XA, если\n",
        "\n",
        "$A=\\begin{pmatrix}1&1&0\\\\0&1&1\\\\0&0&1\\end{pmatrix}$\n",
        "\n",
        "Решение:\n",
        "\n",
        "Запишем условие коммутативности в виде матричного уравнения:\n",
        "\n",
        "$\\begin{pmatrix}1&1&0\\\\0&1&1\\\\0&0&1\\end{pmatrix}\\cdot\\begin{pmatrix}x_{11}&x_{12}&x_{13}\\\\x_{21}&x_{22}&x_{23}\\\\x_{31}&x_{32}&x_{33}\\end{pmatrix}=\\begin{pmatrix}x_{11}&x_{12}&x_{13}\\\\x_{21}&x_{22}&x_{23}\\\\x_{31}&x_{32}&x_{33}\\end{pmatrix}\\cdot\\begin{pmatrix}1&1&0\\\\ 0&1&1\\\\ 0&0&1\\end{pmatrix}$=\n",
        "\n",
        "$=\\begin{pmatrix}x_{11}+x_{21}+0&x_{12}+x_{22}+0&x_{13}+x_{23}+0\\\\0+x_{21}+x_{31}&0+x_{22}+x_{32}&0+x_{23}+x_{33}\\\\0+0+x_{31}&0+0+x_{32}&0+0+x_{33}\\end{pmatrix}=\\begin{pmatrix}x_{11}+0+0&x_{11}+x_{12}+0&0+x_{12}+x_{13}\\\\x_{21}+0+0&x_{21}+x_{22}+0&0+x_{22}+x_{23}\\\\x_{31}+0+0&x_{31}+x_{32}+0&0+x_{32}+x_{33}\\end{pmatrix}$\n",
        "\n",
        "Приравниваем соответствующие элементы матриц:\n",
        "\n",
        "$\\begin{cases}x_{11}+x_{21}=x_{11}=>x_{21}=0\\\\x_{12}+x_{22}=x_{11}+x_{12}\\\\x_{13}+x_{23}=x_{12}+x_{13}\\\\x_{21}+x_{31}=x_{21}=>x_{31}=0\\\\x_{22}+x_{32}=x_{21}+x_{22}\\\\x_{23}+x_{33}=x_{22}+x_{23}\\\\x_{31}=x_{31}\\\\x_{32}=x_{31}+x_{32}=>x_{32}=0\\\\x_{33}=x_{32}+x_{33}=>x_{32}=0\\end{cases}$\n",
        "\n",
        "Подставляем найденные значения в матрицу X и получаем ответ что все матрицы X, коммутирующие с матрицей A, имеют вид:\n",
        "\n",
        "$X=\\begin{pmatrix}x_{11}&x_{12}&x_{13}\\\\0&x_{22}&x_{23}\\\\0&0&x_{33}\\end{pmatrix}$\n",
        "\n",
        "где x₁₁, x₁₂, x₁₃, x₂₂, x₂₃, x₃₃ - произвольные числа."
      ],
      "metadata": {
        "id": "bsGSJi6e8RAi"
      }
    },
    {
      "cell_type": "code",
      "source": [],
      "metadata": {
        "id": "lT9I7x_Er33E"
      },
      "execution_count": null,
      "outputs": []
    },
    {
      "cell_type": "markdown",
      "source": [
        "Задача 4 (2.5 балла). Пусть в матрице A взяли вторую строку и к ней добавили две первые строки. Что при этом произойдёт с матрицей $A^{-1}$?\n",
        "\n",
        "Пусть дана матрица $A:$\n",
        "\n",
        "$A=\\begin{pmatrix}a_{11}&a_{12}&\\dots&a_{1n}\\\\a_{21}& a_{22}&\\dots & a_{2n}\\\\\\vdots&\\vdots&\\ddots&\\vdots\\\\a_{n1}&a_{n2}&\\dots&a_{nn}\\end{pmatrix}$\n",
        "\n",
        "По условию задачи, ко второй строке матрицы $A$ мы добавляем первую и третью строки:\n",
        "\n",
        "$A_{\\text{new}}=\\begin{pmatrix}a_{11}&a_{12}&\\dots&a_{1n}\\\\a_{11}+a_{21}+a_{n1}&a_{12}+a_{22}+a_{n2}&\\dots&a_{1n}+a_{2n}+a_{nn}\\\\a_{31}&a_{32}&\\dots&a_{3n}\\\\\\vdots&\\vdots&\\ddots&\\vdots\\\\a_{n1}&a_{n2}&\\dots&a_{nn}\\end{pmatrix}$\n",
        "\n",
        "$A_{\\text{new}}^{-1}=(E\\cdot A)^{-1}=A^{-1}\\cdot E^{-1}$\n",
        "\n",
        "$E=\\begin{pmatrix}1&0&0&\\dots&0\\\\1&1&0&\\dots&0\\\\1&0&1&\\dots&0\\\\0&0&0&\\dots&1\\end{pmatrix}$\n",
        "\n",
        "$E^{-1}=\\begin{pmatrix}1&0&0&\\dots&0\\\\-1&1&0&\\dots&0\\\\-1&0&1&\\dots&0\\\\0&0&0&\\dots&1\\end{pmatrix}$\n",
        "\n",
        "Изменение второй строки матрицы $A$ путем добавления двух первых строк приводит к изменению её обратной матрицы равному её произведению на обратную элементарную матрицу $E^{-1}$\n",
        "\n",
        "$A_{\\text{new}}^{-1}=A^{-1}\\cdot\\begin{pmatrix}1&0&0&\\dots&0\\\\-1&1&0&\\dots&0\\\\-1&0&1&\\dots&0\\\\0&0&0&\\dots&1\\end{pmatrix}$"
      ],
      "metadata": {
        "id": "Xa88LSNbuFil"
      }
    }
  ]
}