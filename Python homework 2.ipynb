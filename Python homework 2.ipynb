{
  "nbformat": 4,
  "nbformat_minor": 0,
  "metadata": {
    "colab": {
      "provenance": [],
      "include_colab_link": true
    },
    "kernelspec": {
      "name": "python3",
      "display_name": "Python 3"
    },
    "language_info": {
      "name": "python"
    }
  },
  "cells": [
    {
      "cell_type": "markdown",
      "metadata": {
        "id": "view-in-github",
        "colab_type": "text"
      },
      "source": [
        "<a href=\"https://colab.research.google.com/github/Aleksei-Ia/HSE_University/blob/main/Python%20homework%202.ipynb\" target=\"_parent\"><img src=\"https://colab.research.google.com/assets/colab-badge.svg\" alt=\"Open In Colab\"/></a>"
      ]
    },
    {
      "cell_type": "code",
      "execution_count": null,
      "metadata": {
        "id": "ILgZ7iicbECT",
        "colab": {
          "base_uri": "https://localhost:8080/"
        },
        "outputId": "0435ed61-769b-4e7e-849a-53d322295553"
      },
      "outputs": [
        {
          "output_type": "stream",
          "name": "stdout",
          "text": [
            "[1, 2, 3, 4, 5, 6, 7, 8]\n",
            "[1, 2, 'a', 'b', 'c', 2, 4, 'k', 'e', 'y']\n"
          ]
        }
      ],
      "source": [
        "#Задача 1. Генератор\n",
        "from collections.abc import Iterable\n",
        "def generator(collections):\n",
        "    for a in collections:\n",
        "        if isinstance(a, str):\n",
        "            for b in a:\n",
        "                yield b\n",
        "        elif isinstance(a, Iterable):\n",
        "            for c in generator(a):\n",
        "                yield c\n",
        "        else:\n",
        "            yield a\n",
        "#для тестирования данные из примера\n",
        "data1 = [[1, 2, 3], [4, [5, 6, [7, 8]]]]\n",
        "data2 = [1, 2, 'abc', [2, 4], {'key' : 'value'}]\n",
        "print(list(generator(data1)))\n",
        "print(list(generator(data2)))"
      ]
    },
    {
      "cell_type": "markdown",
      "source": [
        "### Задача 1. Генератор. (15)\n",
        "\n",
        "Напишите генератор, который принимает коллекцию с вложенными итерируемыми объектами, а возвращает каждый элемент последовательно.Если \"распаковать\" все получаемые значения в list, получится \"сплющенный\" список. Например:\n",
        "\n",
        "[[1, 2, 3], [4, [5, 6, [7, 8]]]] -> [1, 2, 3, 4, 5, 6, 7, 8]\n",
        "\n",
        "Еще пример:\n",
        "[1, 2, 'abc', [2, 4], {'key' : 'value'}]\n",
        "\n",
        "-> [1, 2, 'a', 'b', 'c', 2, 4, 'k', 'e', 'y']\n",
        "\n",
        "(Итерация в словарях происходит по ключам)\n",
        "\n",
        "*Подсказка.* Для проверки, что объект является итерируемым, можно использовать\n",
        "\n",
        "<code>\n",
        "from collections.abc import Iterable\n",
        "\n",
        "...\n",
        "</code>\n",
        "\n",
        "<code>\n",
        "if isinstance(x, Iterable):\n",
        "</code>\n",
        "\n",
        "Функция <code>isinstance(x, tp)</code> проверяет, относится ли <code>x</code>  к типу <code>tp</code>"
      ],
      "metadata": {
        "id": "3hbz5ApSb36n"
      }
    },
    {
      "cell_type": "code",
      "source": [
        "isinstance(2, int)"
      ],
      "metadata": {
        "colab": {
          "base_uri": "https://localhost:8080/"
        },
        "id": "aenVG77Oc4lD",
        "outputId": "f30ffec6-ddac-4595-b5d7-c517d1ce49a3"
      },
      "execution_count": null,
      "outputs": [
        {
          "output_type": "execute_result",
          "data": {
            "text/plain": [
              "True"
            ]
          },
          "metadata": {},
          "execution_count": 1
        }
      ]
    },
    {
      "cell_type": "code",
      "source": [
        "from collections.abc import Iterable\n",
        "print(isinstance(1, Iterable))\n",
        "print(isinstance('abc', Iterable))"
      ],
      "metadata": {
        "colab": {
          "base_uri": "https://localhost:8080/"
        },
        "id": "QT-YXkjJc-1V",
        "outputId": "f9c0a300-d81c-41b0-fee2-3e74b8c5abf9"
      },
      "execution_count": null,
      "outputs": [
        {
          "output_type": "stream",
          "name": "stdout",
          "text": [
            "False\n",
            "True\n"
          ]
        }
      ]
    },
    {
      "cell_type": "code",
      "source": [
        "#Задача 2. itertools\n",
        "from itertools import combinations\n",
        "numbers = list(map(int, input().split()))\n",
        "n = int(input())\n",
        "value = []\n",
        "upairs = combinations(numbers, 2)\n",
        "for pair in upairs:\n",
        "    if sum(pair) == n:\n",
        "        value.append(pair)\n",
        "print(value)"
      ],
      "metadata": {
        "id": "gtrWiitfdleW",
        "colab": {
          "base_uri": "https://localhost:8080/"
        },
        "outputId": "63a06241-1ec4-463e-988c-eacfb9c9662b"
      },
      "execution_count": null,
      "outputs": [
        {
          "output_type": "stream",
          "name": "stdout",
          "text": [
            "1 2 3 4 5 6\n",
            "7\n",
            "[(1, 6), (2, 5), (3, 4)]\n"
          ]
        }
      ]
    },
    {
      "cell_type": "markdown",
      "source": [
        "### Задача 2. itertools (15)\n",
        "\n",
        "Модуль itertools представляет много инструментов для работы с итераторами.\n",
        "\n",
        "Ознакомиться с ними можно здесь: https://docs.python.org/3/library/itertools.html\n",
        "\n",
        "Вводится числа через пробел с одной строке. Затем вводится число n.\n",
        "\n",
        "Напишите программу, которая находит все уникальные пары чисел из списка, где сумма каждой пары равна числу n. Можете использовать itertools.\n",
        "\n",
        "Например, списка [1, 2, 3, 4, 5, 6] и n=7 программа должна вывести пары чисел, которые в сумме дают 7: [(1, 6), (2, 5), (3, 4)].\n",
        "\n",
        "*Гарантируется, что числа в списке не повторяются.*\n",
        "\n",
        "*Пары в кортежах должны быть в том же порядке, что в исходном списке.*"
      ],
      "metadata": {
        "id": "L4JHtvIsdqRI"
      }
    },
    {
      "cell_type": "code",
      "source": [
        "#3.1(Вспоминаем, что такое numpy)\n",
        "#1\n",
        "import numpy as np\n",
        "rand = np.random.randint(100, size=20)\n",
        "print(rand) #вывод массива для упрощения визуальной проверки\n",
        "print(np.mean(rand))\n",
        "print(np.min(rand))\n",
        "print(np.max(rand))\n",
        "print(np.argmin(rand))\n",
        "#2\n",
        "a = np.arange(2, 15, 2)\n",
        "d = np.array([7, 11, 17, 18, 23, 30, 45])\n",
        "print((a + d)**2)\n",
        "print(a[(d > 12) & (d % 5 == 3)])\n",
        "print(a % 2, d % 3)\n",
        "#3\n",
        "b = np.random.rand(3, 1)\n",
        "C = np.random.rand(3, 3)\n",
        "print(np.linalg.solve(C, b))\n",
        "singular = np.array([[0, 0], [1, 2]])\n",
        "print(np.linalg.solve(singular, d[:2]))"
      ],
      "metadata": {
        "id": "-7-mfrC3d6Pz",
        "colab": {
          "base_uri": "https://localhost:8080/",
          "height": 543
        },
        "outputId": "c455ae16-53f5-49d2-d675-b01b57ac89ff"
      },
      "execution_count": null,
      "outputs": [
        {
          "output_type": "stream",
          "name": "stdout",
          "text": [
            "[32 66 65 88 94 46 70 22 10 78 35 43 92 60 82 48 78 76 11 36]\n",
            "56.6\n",
            "10\n",
            "94\n",
            "8\n",
            "[  81  225  529  676 1089 1764 3481]\n",
            "[ 8 10]\n",
            "[0 0 0 0 0 0 0] [1 2 2 0 2 0 0]\n",
            "[[ 0.86877893]\n",
            " [-0.0333487 ]\n",
            " [-0.08709179]]\n"
          ]
        },
        {
          "output_type": "error",
          "ename": "LinAlgError",
          "evalue": "Singular matrix",
          "traceback": [
            "\u001b[0;31m---------------------------------------------------------------------------\u001b[0m",
            "\u001b[0;31mLinAlgError\u001b[0m                               Traceback (most recent call last)",
            "\u001b[0;32m<ipython-input-4-2fbf747ae947>\u001b[0m in \u001b[0;36m<cell line: 21>\u001b[0;34m()\u001b[0m\n\u001b[1;32m     19\u001b[0m \u001b[0mprint\u001b[0m\u001b[0;34m(\u001b[0m\u001b[0mnp\u001b[0m\u001b[0;34m.\u001b[0m\u001b[0mlinalg\u001b[0m\u001b[0;34m.\u001b[0m\u001b[0msolve\u001b[0m\u001b[0;34m(\u001b[0m\u001b[0mC\u001b[0m\u001b[0;34m,\u001b[0m \u001b[0mb\u001b[0m\u001b[0;34m)\u001b[0m\u001b[0;34m)\u001b[0m\u001b[0;34m\u001b[0m\u001b[0;34m\u001b[0m\u001b[0m\n\u001b[1;32m     20\u001b[0m \u001b[0msingular\u001b[0m \u001b[0;34m=\u001b[0m \u001b[0mnp\u001b[0m\u001b[0;34m.\u001b[0m\u001b[0marray\u001b[0m\u001b[0;34m(\u001b[0m\u001b[0;34m[\u001b[0m\u001b[0;34m[\u001b[0m\u001b[0;36m0\u001b[0m\u001b[0;34m,\u001b[0m \u001b[0;36m0\u001b[0m\u001b[0;34m]\u001b[0m\u001b[0;34m,\u001b[0m \u001b[0;34m[\u001b[0m\u001b[0;36m1\u001b[0m\u001b[0;34m,\u001b[0m \u001b[0;36m2\u001b[0m\u001b[0;34m]\u001b[0m\u001b[0;34m]\u001b[0m\u001b[0;34m)\u001b[0m\u001b[0;34m\u001b[0m\u001b[0;34m\u001b[0m\u001b[0m\n\u001b[0;32m---> 21\u001b[0;31m \u001b[0mprint\u001b[0m\u001b[0;34m(\u001b[0m\u001b[0mnp\u001b[0m\u001b[0;34m.\u001b[0m\u001b[0mlinalg\u001b[0m\u001b[0;34m.\u001b[0m\u001b[0msolve\u001b[0m\u001b[0;34m(\u001b[0m\u001b[0msingular\u001b[0m\u001b[0;34m,\u001b[0m \u001b[0md\u001b[0m\u001b[0;34m[\u001b[0m\u001b[0;34m:\u001b[0m\u001b[0;36m2\u001b[0m\u001b[0;34m]\u001b[0m\u001b[0;34m)\u001b[0m\u001b[0;34m)\u001b[0m\u001b[0;34m\u001b[0m\u001b[0;34m\u001b[0m\u001b[0m\n\u001b[0m\u001b[1;32m     22\u001b[0m \u001b[0;34m\u001b[0m\u001b[0m\n",
            "\u001b[0;32m/usr/local/lib/python3.10/dist-packages/numpy/linalg/linalg.py\u001b[0m in \u001b[0;36msolve\u001b[0;34m(a, b)\u001b[0m\n\u001b[1;32m    407\u001b[0m     \u001b[0msignature\u001b[0m \u001b[0;34m=\u001b[0m \u001b[0;34m'DD->D'\u001b[0m \u001b[0;32mif\u001b[0m \u001b[0misComplexType\u001b[0m\u001b[0;34m(\u001b[0m\u001b[0mt\u001b[0m\u001b[0;34m)\u001b[0m \u001b[0;32melse\u001b[0m \u001b[0;34m'dd->d'\u001b[0m\u001b[0;34m\u001b[0m\u001b[0;34m\u001b[0m\u001b[0m\n\u001b[1;32m    408\u001b[0m     \u001b[0mextobj\u001b[0m \u001b[0;34m=\u001b[0m \u001b[0mget_linalg_error_extobj\u001b[0m\u001b[0;34m(\u001b[0m\u001b[0m_raise_linalgerror_singular\u001b[0m\u001b[0;34m)\u001b[0m\u001b[0;34m\u001b[0m\u001b[0;34m\u001b[0m\u001b[0m\n\u001b[0;32m--> 409\u001b[0;31m     \u001b[0mr\u001b[0m \u001b[0;34m=\u001b[0m \u001b[0mgufunc\u001b[0m\u001b[0;34m(\u001b[0m\u001b[0ma\u001b[0m\u001b[0;34m,\u001b[0m \u001b[0mb\u001b[0m\u001b[0;34m,\u001b[0m \u001b[0msignature\u001b[0m\u001b[0;34m=\u001b[0m\u001b[0msignature\u001b[0m\u001b[0;34m,\u001b[0m \u001b[0mextobj\u001b[0m\u001b[0;34m=\u001b[0m\u001b[0mextobj\u001b[0m\u001b[0;34m)\u001b[0m\u001b[0;34m\u001b[0m\u001b[0;34m\u001b[0m\u001b[0m\n\u001b[0m\u001b[1;32m    410\u001b[0m \u001b[0;34m\u001b[0m\u001b[0m\n\u001b[1;32m    411\u001b[0m     \u001b[0;32mreturn\u001b[0m \u001b[0mwrap\u001b[0m\u001b[0;34m(\u001b[0m\u001b[0mr\u001b[0m\u001b[0;34m.\u001b[0m\u001b[0mastype\u001b[0m\u001b[0;34m(\u001b[0m\u001b[0mresult_t\u001b[0m\u001b[0;34m,\u001b[0m \u001b[0mcopy\u001b[0m\u001b[0;34m=\u001b[0m\u001b[0;32mFalse\u001b[0m\u001b[0;34m)\u001b[0m\u001b[0;34m)\u001b[0m\u001b[0;34m\u001b[0m\u001b[0;34m\u001b[0m\u001b[0m\n",
            "\u001b[0;32m/usr/local/lib/python3.10/dist-packages/numpy/linalg/linalg.py\u001b[0m in \u001b[0;36m_raise_linalgerror_singular\u001b[0;34m(err, flag)\u001b[0m\n\u001b[1;32m    110\u001b[0m \u001b[0;34m\u001b[0m\u001b[0m\n\u001b[1;32m    111\u001b[0m \u001b[0;32mdef\u001b[0m \u001b[0m_raise_linalgerror_singular\u001b[0m\u001b[0;34m(\u001b[0m\u001b[0merr\u001b[0m\u001b[0;34m,\u001b[0m \u001b[0mflag\u001b[0m\u001b[0;34m)\u001b[0m\u001b[0;34m:\u001b[0m\u001b[0;34m\u001b[0m\u001b[0;34m\u001b[0m\u001b[0m\n\u001b[0;32m--> 112\u001b[0;31m     \u001b[0;32mraise\u001b[0m \u001b[0mLinAlgError\u001b[0m\u001b[0;34m(\u001b[0m\u001b[0;34m\"Singular matrix\"\u001b[0m\u001b[0;34m)\u001b[0m\u001b[0;34m\u001b[0m\u001b[0;34m\u001b[0m\u001b[0m\n\u001b[0m\u001b[1;32m    113\u001b[0m \u001b[0;34m\u001b[0m\u001b[0m\n\u001b[1;32m    114\u001b[0m \u001b[0;32mdef\u001b[0m \u001b[0m_raise_linalgerror_nonposdef\u001b[0m\u001b[0;34m(\u001b[0m\u001b[0merr\u001b[0m\u001b[0;34m,\u001b[0m \u001b[0mflag\u001b[0m\u001b[0;34m)\u001b[0m\u001b[0;34m:\u001b[0m\u001b[0;34m\u001b[0m\u001b[0;34m\u001b[0m\u001b[0m\n",
            "\u001b[0;31mLinAlgError\u001b[0m: Singular matrix"
          ]
        }
      ]
    },
    {
      "cell_type": "markdown",
      "source": [
        "### Задача 3. Numpy (22 балла)\n",
        "\n",
        "**3.1 (Вспоминаем, что такое numpy)** (6 баллов)\n",
        "\n",
        "$ 1.$ (2.5 б.)\n",
        "\n",
        "Создайте с помощью np.random.randint numpy массив из 20-ти рандомных чисел.  (0.5 б.)\n",
        "Посчитайте с помощью методов numpy и выведите на экран:\n",
        "\n",
        "* среднее значение в массиве (0.5 б.)\n",
        "* минимальное значение в массиве (0.5 б.)\n",
        "* максимальное значение в массиве (0.5 б.)\n",
        "* индекс минимального элемента в массиве (0.5 б.)\n",
        "\n",
        "\n",
        "$ 2.$ (1.5 б.)Создайте два numpy массива: в первом должны быть четные числа от 2 до 14 включительно, а во втором — числа 7, 11, 17, 18, 23, 30, 45.\n",
        "\n",
        "* Сложите массивы и возведите элементы получившегося массива в квадрат\n",
        "* Выведите все элементы из первого массива, которые стоят на тех местах, где элементы второго массива больше 12 и дают остаток 3 при делении на 5.\n",
        "* Для первого массива найдите остатки от деления на 2, а для второго — на 3.\n",
        "\n",
        "\n",
        "$ 3.$ (2 б.)\n",
        "1. Сгенерируйте рандомный массив b размера 3x1.\n",
        "2. Сгенерируйте матрицу С размера 3x3.\n",
        "3. Решите систему Cx = b с помощью numpy.linalg.solve\n",
        "4. Подумайте/погуглите, в каком случае numpy.linalg.solve вернет ошибку LinAlgError. Воспроизведите этот случай."
      ],
      "metadata": {
        "id": "ye_4O1r4eDZ_"
      }
    },
    {
      "cell_type": "markdown",
      "source": [
        "**3.2 (16 баллов)**\n",
        "\n",
        "Сравните производительность операций умножения матриц с использованием библиотеки NumPy и стандартных списков Python для матриц размером от 2x2 до 100x100.\n",
        "\n",
        "1. Сгенерируйте две матрицы A и B случайного размера от nxn, заполненные случайными целыми числами от 1 до 50. **(1 балл)**\n",
        "2. Используя библиотеку NumPy, выполните умножение матриц A и B. Измерьте время выполнения операции. **(2 балла)**\n",
        "3. Реализуйте функцию для умножения матриц с помощью стандартных списков Python. Измерьте время выполнения этой операции.  **(3 балла)**\n",
        "4. Сделайте вышеперечисленные пункты для n=2,...100. **(4 балла)**\n",
        "5. Для какого-нибудь n проверьте, что результаты совпадают. **(1 балл)**\n",
        "\n",
        "\n",
        "6. **(5 баллов)**\n",
        "\n",
        "(Вариант 1) Для каждого n выведите на экран размеры матриц и время выполнения умножения для обеих реализаций.\n",
        "\n",
        "(Вариант 2, с визуализацией) Постройте график, где по оси X будет размер матрицы, по оси Y - время выполнения операции. Постройте два графика (для numpy и для стандартных списков)\n",
        "\n"
      ],
      "metadata": {
        "id": "pWPq7FRRkkAF"
      }
    },
    {
      "cell_type": "code",
      "source": [
        "#3.2 Numpy\n",
        "import numpy as np\n",
        "import time # понадобится для замера времени в следующих пунктах\n",
        "import matplotlib.pyplot as plt\n",
        "#Сравните производительность операций умножения матриц с использованием библиотеки NumPy и стандартных списков Python для матриц размером от 2x2 до 100x100\n",
        "n = np.random.randint(2, 101)\n",
        "#Сгенерируйте две матрицы A и B случайного размера от nxn, заполненные случайными целыми числами от 1 до 50\n",
        "A = np.random.randint(1, 51, (n, n))\n",
        "B = np.random.randint(1, 51, (n, n))\n",
        "#Используя библиотеку NumPy, выполните умножение матриц A и B. Измерьте время выполнения операции\n",
        "start = time.time()\n",
        "np.dot(A, B)\n",
        "print(time.time() - start, \"seconds\")\n",
        "#Реализуйте функцию для умножения матриц с помощью стандартных списков Python. Измерьте время выполнения этой операции.\n",
        "def matrix_multiplication(A, B):\n",
        "    n = len(A)\n",
        "    C = np.zeros((n, n))\n",
        "    for i in range(n):\n",
        "        for j in range(n):\n",
        "            for k in range(n):\n",
        "                C[i][j] += A[i][k] * B[k][j]\n",
        "    return C\n",
        "start1 = time.time()\n",
        "matrix_multiplication(A.tolist(), B.tolist())\n",
        "print(time.time() - start1, \"seconds\")\n",
        "#Сделайте вышеперечисленные пункты для n=2,...100\n",
        "results = []\n",
        "values = []\n",
        "for n in range(2, 101):\n",
        "    A = np.random.randint(1, 51, (n, n))\n",
        "    B = np.random.randint(1, 51, (n, n))\n",
        "    start = time.time()\n",
        "    np.dot(A, B)\n",
        "    results.append(time.time() - start)\n",
        "    start1 = time.time()\n",
        "    matrix_multiplication(A.tolist(), B.tolist())\n",
        "    values.append(time.time() - start1)\n",
        "print(results)\n",
        "print(values)\n",
        "#Для какого-нибудь n проверьте, что результаты совпадают\n",
        "A = np.random.randint(1, 51, (100, 100))\n",
        "B = np.random.randint(1, 51, (100, 100))\n",
        "result1 = np.dot(A, B)\n",
        "result2 = matrix_multiplication(A.tolist(), B.tolist())\n",
        "print(np.array_equal(result1, result2))\n",
        "#Постройте график, где по оси X будет размер матрицы, по оси Y - время выполнения операции. Постройте два графика (для numpy и для стандартных списков)\n",
        "sizes = []\n",
        "numpy_times = []\n",
        "python_times = []\n",
        "for n in range(2, 101):\n",
        "    A = np.random.randint(1, 51, (n, n))\n",
        "    B = np.random.randint(1, 51, (n, n))\n",
        "    start = time.time()\n",
        "    np.dot(A, B)\n",
        "    numpy_times.append(time.time() - start)\n",
        "    start = time.time()\n",
        "    matrix_multiplication(A.tolist(), B.tolist())\n",
        "    python_times.append(time.time() - start)\n",
        "    sizes.append(n)\n",
        "plt.plot(sizes, numpy_times, label='NumPy')\n",
        "plt.plot(sizes, python_times, label='Python')\n",
        "plt.xlabel('Размер матрицы')\n",
        "plt.ylabel('Время выполнения')\n",
        "plt.legend()\n",
        "plt.show()"
      ],
      "metadata": {
        "id": "Efilo6clpR6h",
        "colab": {
          "base_uri": "https://localhost:8080/",
          "height": 558
        },
        "outputId": "e686462e-afc5-4d30-9f39-7e55ac0572cb"
      },
      "execution_count": null,
      "outputs": [
        {
          "output_type": "stream",
          "name": "stdout",
          "text": [
            "0.0007214546203613281 seconds\n",
            "0.3571898937225342 seconds\n",
            "[1.621246337890625e-05, 6.67572021484375e-06, 1.9550323486328125e-05, 6.556510925292969e-05, 1.1205673217773438e-05, 9.5367431640625e-06, 5.7220458984375e-06, 2.1696090698242188e-05, 1.2636184692382812e-05, 7.867813110351562e-06, 1.1920928955078125e-05, 1.4066696166992188e-05, 6.9141387939453125e-06, 6.9141387939453125e-06, 7.3909759521484375e-06, 1.0967254638671875e-05, 1.049041748046875e-05, 1.0967254638671875e-05, 1.1444091796875e-05, 1.3113021850585938e-05, 1.9550323486328125e-05, 2.2649765014648438e-05, 2.6464462280273438e-05, 2.1696090698242188e-05, 2.1457672119140625e-05, 2.2649765014648438e-05, 2.574920654296875e-05, 2.8848648071289062e-05, 3.147125244140625e-05, 3.266334533691406e-05, 7.367134094238281e-05, 4.076957702636719e-05, 4.3392181396484375e-05, 7.557868957519531e-05, 5.221366882324219e-05, 7.939338684082031e-05, 6.222724914550781e-05, 7.724761962890625e-05, 6.556510925292969e-05, 6.723403930664062e-05, 7.224082946777344e-05, 7.724761962890625e-05, 8.320808410644531e-05, 0.00010085105895996094, 9.775161743164062e-05, 0.00010013580322265625, 0.00010609626770019531, 0.00011134147644042969, 0.00011658668518066406, 0.00028705596923828125, 0.00013208389282226562, 0.00013899803161621094, 0.00014638900756835938, 0.0001533031463623047, 0.00016045570373535156, 0.00016927719116210938, 0.00017690658569335938, 0.0003058910369873047, 0.000194549560546875, 0.00021004676818847656, 0.00021648406982421875, 0.00022172927856445312, 0.00023651123046875, 0.0002415180206298828, 0.0002574920654296875, 0.0002665519714355469, 0.00027441978454589844, 0.00030994415283203125, 0.0003981590270996094, 0.0003077983856201172, 0.0005257129669189453, 0.0004017353057861328, 0.0004031658172607422, 0.0007491111755371094, 0.0007462501525878906, 0.0007729530334472656, 0.0008325576782226562, 0.000873565673828125, 0.0004961490631103516, 0.0005323886871337891, 0.0005812644958496094, 0.0005981922149658203, 0.0005869865417480469, 0.0005338191986083984, 0.0005481243133544922, 0.0005679130554199219, 0.0005922317504882812, 0.0006074905395507812, 0.0006313323974609375, 0.0006475448608398438, 0.0007276535034179688, 0.000728607177734375, 0.0007948875427246094, 0.0008161067962646484, 0.0008509159088134766, 0.0008711814880371094, 0.0008952617645263672, 0.0009167194366455078, 0.0009424686431884766]\n",
            "[2.1696090698242188e-05, 5.245208740234375e-05, 7.867813110351562e-05, 0.0001442432403564453, 0.00016117095947265625, 0.00022935867309570312, 0.0003275871276855469, 0.00043845176696777344, 0.0005686283111572266, 0.0007824897766113281, 0.0010564327239990234, 0.0012509822845458984, 0.0015192031860351562, 0.0018706321716308594, 0.0024552345275878906, 0.002753734588623047, 0.003251314163208008, 0.0037610530853271484, 0.0043642520904541016, 0.005075931549072266, 0.005830049514770508, 0.0076944828033447266, 0.009176969528198242, 0.008596658706665039, 0.009594202041625977, 0.010825395584106445, 0.012768745422363281, 0.015444278717041016, 0.014780759811401367, 0.017463207244873047, 0.021439075469970703, 0.020683765411376953, 0.026813745498657227, 0.034328460693359375, 0.025781631469726562, 0.027661800384521484, 0.030264616012573242, 0.03531002998352051, 0.03462934494018555, 0.037584781646728516, 0.04193711280822754, 0.0432586669921875, 0.05164647102355957, 0.0500645637512207, 0.054982662200927734, 0.056629180908203125, 0.0609431266784668, 0.06372785568237305, 0.06887030601501465, 0.07617759704589844, 0.07731485366821289, 0.0829465389251709, 0.09812211990356445, 0.09076261520385742, 0.09634828567504883, 0.10055184364318848, 0.10755729675292969, 0.11728286743164062, 0.1171414852142334, 0.12259531021118164, 0.13054156303405762, 0.1478729248046875, 0.14269328117370605, 0.1521463394165039, 0.15602684020996094, 0.16434097290039062, 0.1708223819732666, 0.18467020988464355, 0.2023637294769287, 0.19604706764221191, 0.20295047760009766, 0.20874357223510742, 0.38469457626342773, 0.44933009147644043, 0.45322537422180176, 0.4877021312713623, 0.5003399848937988, 0.48052382469177246, 0.2753415107727051, 0.2946600914001465, 0.3178896903991699, 0.3081672191619873, 0.32712340354919434, 0.35704493522644043, 0.34319615364074707, 0.36154770851135254, 0.3890385627746582, 0.3848838806152344, 0.41629457473754883, 0.4129610061645508, 0.437685489654541, 0.44533205032348633, 0.4539060592651367, 0.4838080406188965, 0.48476648330688477, 0.5118324756622314, 0.5129702091217041, 0.5382354259490967, 0.5425865650177002]\n",
            "True\n"
          ]
        },
        {
          "output_type": "display_data",
          "data": {
            "text/plain": [
              "<Figure size 640x480 with 1 Axes>"
            ],
            "image/png": "[encoded data removed]"
          },
          "metadata": {}
        }
      ]
    },
    {
      "cell_type": "markdown",
      "source": [
        "### Задача 4. Введение в pandas (8 баллов)\n",
        "\n",
        "Работаем с датасетом по кредитному скорингу loan_data.csv. Скачайте его здесь https://disk.yandex.ru/d/xkujsz3HFJ8taw и считайте с помощью pd.read_csv.\n",
        "\n",
        "Используемые столбцы:\n",
        "\n",
        "- credit.policy - 1, если клиент соответствует критериям выдачи кредита, 0 в противном случае.\n",
        "- purpose - цель кредита (принимает значения \"credit_card\", \"debt_consolidation\", \"educational\", \"home_improvement\", \"major_purchase\", \"small_business\"  и \"all_other\").\n",
        "- int.rate - процентная ставка по кредиту.\n",
        "- installment - ежемесячный платеж, причитающийся заемщику в случае финансирования кредита.\n",
        "- log.annual.inc - натуральный логарифм годового дохода заемщика, представленного им самим.\n",
        "- dti - отношение долга к доходу заемщика (сумма долга, деленная на годовой доход).\n",
        "- fico - кредитный рейтинг FICO заемщика.\n",
        "- days.with.cr.line - количество дней, в течение которых у заемщика была открыта кредитная линия.\n",
        "- revol.bal - возобновляемый баланс заемщика (сумма, не выплаченная в конце платежного цикла по кредитной карте).\n",
        "- revol.util - коэффициент использования возобновляемой кредитной линии заемщиком (сумма использованной кредитной линии по отношению к общему объему доступных кредитов).\n",
        "- inq.last.6mths - количество запросов заемщика от кредиторов за последние 6 месяцев.\n",
        "- delinq.2yrs - количество раз, когда заемщик просрочивал платеж более чем на 30 дней за последние 2 года.\n",
        "- pub.rec - количество негативных публичных записей о заемщике (заявления о банкротстве, налоговые залоги или судебные решения).\n",
        "- not.fully.paid - неполностью выплаченный кредит ранее."
      ],
      "metadata": {
        "id": "iwbwgOaEpPSA"
      }
    },
    {
      "cell_type": "code",
      "source": [
        "#Задача 4. Введение в pandas\n",
        "import pandas as pd\n",
        "import matplotlib.pyplot as plt\n",
        "# Работаем с датасетом по кредитному скорингу loan_data.csv. Скачайте его здесь https://disk.yandex.ru/d/xkujsz3HFJ8taw и считайте с помощью pd.read_csv.\n",
        "data = pd.read_csv('loan_data.csv')\n",
        "#Выведите первые 5 строк датасета.\n",
        "print(data.head())\n",
        "#Сколько в датасете строк и столбцов?\n",
        "print(data.shape)\n",
        "#Есть ли в датасете пропуски?\n",
        "print(data.isnull().values.any())\n",
        "#Выведите все описательные статистики по переменным\n",
        "print(data.describe())\n",
        "#Какая средняя процентная ставка по кредиту?\n",
        "print(data['int.rate'].mean())\n",
        "#Сколько клиентов соответствует условиям выдачи кредита?\n",
        "print(data['credit.policy'].sum())\n",
        "#Как отличается средний логарифм годового дохода заемщиков, которые соответствует условиям выдача кредита и тех, кто не соответствует?\n",
        "print(abs(data[data['credit.policy'] == 1]['log.annual.inc'].mean() - data[data['credit.policy'] == 0]['log.annual.inc'].mean()))\n",
        "#Какой медианный ежемесячный платеж?\n",
        "print(data['installment'].median())\n",
        "#Сколько уникальных значений у переменной not.fully.paid?\n",
        "print(data['not.fully.paid'].nunique())\n",
        "#Сделайте столбец annual.inc для подсчета годового дохода (выполните обратное преобразование столбца log.annual.inc)\n",
        "data['annual.inc'] = np.exp(data['log.annual.inc'])\n",
        "print(data['annual.inc'].head())\n",
        "#Сделайте группировку по двум переменным: credit.policy и not.fully.paid. Посчитайте для каждой группы количество клиентов, средний ежемесячный платеж, медианный ежемесячный платеж, средний годовой доход.\n",
        "a = data.groupby(['credit.policy', 'not.fully.paid']).agg(total=('credit.policy', 'size'), avg_installment=('installment', 'mean'), med_installment=('installment', 'median'), avg_annual_inc=('annual.inc', 'mean')).reset_index()\n",
        "for index, row in a.iterrows():\n",
        "    print(f\"Группа: credit.policy={row['credit.policy']}, not.fully.paid={row['not.fully.paid']}\")\n",
        "    print(f\"Количество клиентов: {row['total']}\")\n",
        "    print(f\"Средний ежемесячный платеж: {row['avg_installment']}\")\n",
        "    print(f\"Медианный ежемесячный платеж: {row['med_installment']}\")\n",
        "    print()\n",
        "#Выведите топ-10 клиентов по уровню дохода среди тех, кто не удовлетворяет критериям выдачи кредита.\n",
        "print(data[data['credit.policy'] == 0].nlargest(10, 'annual.inc'))\n",
        "#Есть ли выбросы у переменной annual.inc? Выбросами считайте наблюдения, которые не лежает в границах  [Q1−1.5IQR,Q3+1.5IQR] , где  IQR  - межквартильный размах,  Q1  - 25 перцентиль,  Q3  - 75 перцентиль.\n",
        "Q1 = data['annual.inc'].quantile(0.25)\n",
        "Q3 = data['annual.inc'].quantile(0.75)\n",
        "IQR = Q3 - Q1\n",
        "lower_bound = Q1 - 1.5 * IQR\n",
        "upper_bound = Q3 + 1.5 * IQR\n",
        "print(data[(data['annual.inc'] < lower_bound) | (data['annual.inc'] > upper_bound)].shape[0])\n",
        "#Постройте распределения переменных annual.inc и log.annual.inc\n",
        "plt.figure(figsize=(16, 9))\n",
        "plt.subplot(1, 2, 1)\n",
        "plt.hist(data['annual.inc'], bins=250)\n",
        "plt.title('Распределение годового дохода')\n",
        "plt.xlabel('Годовой доход')\n",
        "plt.ylabel('Частота')\n",
        "plt.ticklabel_format(style='plain')\n",
        "plt.subplot(1, 2, 2)\n",
        "plt.hist(data['log.annual.inc'], bins=70)\n",
        "plt.title('Распределение логарифма годового дохода')\n",
        "plt.xlabel('Логарифм годового дохода')\n",
        "plt.ylabel('Частота')\n",
        "plt.show()"
      ],
      "metadata": {
        "colab": {
          "base_uri": "https://localhost:8080/",
          "height": 1000
        },
        "id": "LKNTQ1FaqCvK",
        "outputId": "93247239-56d3-4188-a415-a0a7eaf77f3c"
      },
      "execution_count": null,
      "outputs": [
        {
          "output_type": "stream",
          "name": "stdout",
          "text": [
            "   credit.policy             purpose  int.rate  installment  log.annual.inc  \\\n",
            "0              1  debt_consolidation    0.1189       829.10       11.350407   \n",
            "1              1         credit_card    0.1071       228.22       11.082143   \n",
            "2              1  debt_consolidation    0.1357       366.86       10.373491   \n",
            "3              1  debt_consolidation    0.1008       162.34       11.350407   \n",
            "4              1         credit_card    0.1426       102.92       11.299732   \n",
            "\n",
            "     dti  fico  days.with.cr.line  revol.bal  revol.util  inq.last.6mths  \\\n",
            "0  19.48   737        5639.958333      28854        52.1               0   \n",
            "1  14.29   707        2760.000000      33623        76.7               0   \n",
            "2  11.63   682        4710.000000       3511        25.6               1   \n",
            "3   8.10   712        2699.958333      33667        73.2               1   \n",
            "4  14.97   667        4066.000000       4740        39.5               0   \n",
            "\n",
            "   delinq.2yrs  pub.rec  not.fully.paid  \n",
            "0            0        0               0  \n",
            "1            0        0               0  \n",
            "2            0        0               0  \n",
            "3            0        0               0  \n",
            "4            1        0               0  \n",
            "(9578, 14)\n",
            "False\n",
            "       credit.policy     int.rate  installment  log.annual.inc          dti  \\\n",
            "count    9578.000000  9578.000000  9578.000000     9578.000000  9578.000000   \n",
            "mean        0.804970     0.122640   319.089413       10.932117    12.606679   \n",
            "std         0.396245     0.026847   207.071301        0.614813     6.883970   \n",
            "min         0.000000     0.060000    15.670000        7.547502     0.000000   \n",
            "25%         1.000000     0.103900   163.770000       10.558414     7.212500   \n",
            "50%         1.000000     0.122100   268.950000       10.928884    12.665000   \n",
            "75%         1.000000     0.140700   432.762500       11.291293    17.950000   \n",
            "max         1.000000     0.216400   940.140000       14.528354    29.960000   \n",
            "\n",
            "              fico  days.with.cr.line     revol.bal   revol.util  \\\n",
            "count  9578.000000        9578.000000  9.578000e+03  9578.000000   \n",
            "mean    710.846314        4560.767197  1.691396e+04    46.799236   \n",
            "std      37.970537        2496.930377  3.375619e+04    29.014417   \n",
            "min     612.000000         178.958333  0.000000e+00     0.000000   \n",
            "25%     682.000000        2820.000000  3.187000e+03    22.600000   \n",
            "50%     707.000000        4139.958333  8.596000e+03    46.300000   \n",
            "75%     737.000000        5730.000000  1.824950e+04    70.900000   \n",
            "max     827.000000       17639.958330  1.207359e+06   119.000000   \n",
            "\n",
            "       inq.last.6mths  delinq.2yrs      pub.rec  not.fully.paid  \n",
            "count     9578.000000  9578.000000  9578.000000     9578.000000  \n",
            "mean         1.577469     0.163708     0.062122        0.160054  \n",
            "std          2.200245     0.546215     0.262126        0.366676  \n",
            "min          0.000000     0.000000     0.000000        0.000000  \n",
            "25%          0.000000     0.000000     0.000000        0.000000  \n",
            "50%          1.000000     0.000000     0.000000        0.000000  \n",
            "75%          2.000000     0.000000     0.000000        0.000000  \n",
            "max         33.000000    13.000000     5.000000        1.000000  \n",
            "0.12264006055543955\n",
            "7710\n",
            "0.054160121282482265\n",
            "268.95\n",
            "2\n",
            "0    85000.000385\n",
            "1    65000.000073\n",
            "2    31999.999943\n",
            "3    85000.000385\n",
            "4    80799.999636\n",
            "Name: annual.inc, dtype: float64\n",
            "Группа: credit.policy=0.0, not.fully.paid=0.0\n",
            "Количество клиентов: 1349.0\n",
            "Средний ежемесячный платеж: 283.94317272053377\n",
            "Медианный ежемесячный платеж: 228.69\n",
            "\n",
            "Группа: credit.policy=0.0, not.fully.paid=1.0\n",
            "Количество клиентов: 519.0\n",
            "Средний ежемесячный платеж: 321.4613294797688\n",
            "Медианный ежемесячный платеж: 258.16\n",
            "\n",
            "Группа: credit.policy=1.0, not.fully.paid=0.0\n",
            "Количество клиентов: 6696.0\n",
            "Средний ежемесячный платеж: 320.74514336917565\n",
            "Медианный ежемесячный платеж: 273.84\n",
            "\n",
            "Группа: credit.policy=1.0, not.fully.paid=1.0\n",
            "Количество клиентов: 1014.0\n",
            "Средний ежемесячный платеж: 353.699358974359\n",
            "Медианный ежемесячный платеж: 301.83000000000004\n",
            "\n",
            "      credit.policy           purpose  int.rate  installment  log.annual.inc  \\\n",
            "8363              0         all_other    0.1039       811.27       13.458836   \n",
            "7907              0    small_business    0.1154       659.91       13.331002   \n",
            "9042              0    small_business    0.2011       735.06       13.304685   \n",
            "7799              0       credit_card    0.1691       489.61       13.122363   \n",
            "8886              0    small_business    0.1095       392.57       13.017003   \n",
            "8975              0  home_improvement    0.0963       513.51       13.017003   \n",
            "9248              0  home_improvement    0.2052       681.19       13.017003   \n",
            "9180              0    small_business    0.1979       555.86       12.948010   \n",
            "9299              0         all_other    0.1704       713.49       12.860999   \n",
            "8235              0    small_business    0.1829       755.91       12.832011   \n",
            "\n",
            "        dti  fico  days.with.cr.line  revol.bal  revol.util  inq.last.6mths  \\\n",
            "8363   0.81   737        3630.000000     200583        23.1               1   \n",
            "7907   2.33   692        4005.958333          0         0.0               5   \n",
            "9042  14.39   672        7620.000000     952013        99.0               6   \n",
            "7799   7.47   667        3600.000000     168496        46.1               2   \n",
            "8886   8.49   737        5130.000000     224090        40.1               3   \n",
            "8975   9.66   777        6780.041667     255805        20.5               2   \n",
            "9248  14.10   697        3539.958333      27286        56.5              10   \n",
            "9180   8.76   682        5009.958333     374487        89.6               1   \n",
            "9299   6.18   667        7650.000000     162716        73.7               1   \n",
            "8235   8.52   652        5039.041667     165108        92.3               4   \n",
            "\n",
            "      delinq.2yrs  pub.rec  not.fully.paid     annual.inc  \n",
            "8363            0        0               1  699999.997182  \n",
            "7907            0        0               1  615999.998450  \n",
            "9042            0        0               0  599999.997481  \n",
            "7799            1        0               1  500000.001298  \n",
            "8886            0        0               0  449999.999214  \n",
            "8975            0        0               0  449999.999214  \n",
            "9248            1        0               0  449999.999214  \n",
            "9180            0        0               0  419999.999891  \n",
            "9299            0        0               0  384999.998741  \n",
            "8235            0        0               1  374000.001348  \n",
            "553\n"
          ]
        },
        {
          "output_type": "display_data",
          "data": {
            "text/plain": [
              "<Figure size 1600x900 with 2 Axes>"
            ],
            "image/png": "[encoded data removed]"
          },
          "metadata": {}
        }
      ]
    },
    {
      "cell_type": "markdown",
      "source": [
        "Каждый пункт весит 0.6 балла, максимальный балл за задание - 8.\n",
        "\n",
        "1. Выведите первые 5 строк датасета.\n",
        "2. Сколько в датасете строк и столбцов?\n",
        "3. Есть ли в датасете пропуски?\n",
        "4. Выведите все описательные статистики по переменным\n",
        "5. Какая средняя процентная ставка по кредиту?\n",
        "6. Сколько клиентов соответствует условиям выдачи кредита?\n",
        "7. Как отличается средний логарифм годового дохода заемщиков, которые соответствует условиям выдача кредита и тех, кто не соответствует?\n",
        "8. Какой медианный ежемесячный платеж?\n",
        "9. Сколько уникальных значений у переменной not.fully.paid?\n",
        "10. Сделайте столбец annual.inc для подсчета годового дохода (выполните обратное преобразование столбца log.annual.inc)\n",
        "11. Сделайте группировку по двум переменным: \tcredit.policy\t и not.fully.paid. Посчитайте для каждой группы количество клиентов, средний ежемесячный платеж, медианный ежемесячный платеж, средний годовой доход.\n",
        "12. Выведите топ-10 клиентов по уровню дохода среди тех, кто не удовлетворяет критериям выдачи кредита.\n",
        "13. Есть ли выбросы у переменной  annual.inc? Выбросами считайте наблюдения, которые не лежает в границах $[Q1-1.5IQR, Q3+1.5IQR]$, где $IQR$ - межквартильный размах,  $Q1$ - 25 перцентиль, $Q3$ - 75 перцентиль.\n",
        "14. Постройте распределения переменных annual.inc и log.annual.inc"
      ],
      "metadata": {
        "id": "TmtSMcMGFgJi"
      }
    }
  ]
}